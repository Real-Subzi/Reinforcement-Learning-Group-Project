{
 "cells": [
  {
   "cell_type": "code",
   "execution_count": 11,
   "metadata": {},
   "outputs": [
    {
     "name": "stderr",
     "output_type": "stream",
     "text": [
      "C:\\Users\\user\\AppData\\Local\\Temp\\ipykernel_73764\\1824695557.py:53: FutureWarning: You are using `torch.load` with `weights_only=False` (the current default value), which uses the default pickle module implicitly. It is possible to construct malicious pickle data which will execute arbitrary code during unpickling (See https://github.com/pytorch/pytorch/blob/main/SECURITY.md#untrusted-models for more details). In a future release, the default value for `weights_only` will be flipped to `True`. This limits the functions that could be executed during unpickling. Arbitrary objects will no longer be allowed to be loaded via this mode unless they are explicitly allowlisted by the user via `torch.serialization.add_safe_globals`. We recommend you start setting `weights_only=True` for any use case where you don't have full control of the loaded file. Please open an issue on GitHub for any issues related to this experimental feature.\n",
      "  model.load_state_dict(torch.load(WEIGHTS_PATH, map_location=DEVICE))\n"
     ]
    },
    {
     "name": "stdout",
     "output_type": "stream",
     "text": [
      "Episode finished with total reward: -92.95774647887222\n"
     ]
    }
   ],
   "source": [
    "import torch\n",
    "import torch.nn as nn\n",
    "import gymnasium as gym\n",
    "import numpy as np\n",
    "import cv2\n",
    "\n",
    "IMG_SIZE = 96\n",
    "# --- Settings ---\n",
    "DEVICE = torch.device(\"cuda\" if torch.cuda.is_available() else \"cpu\")\n",
    "WEIGHTS_PATH = \"torch_weights/dqn_2000eps_full_rgb_alpha_01_gamma_09/dqn_policy_weights_ep2000.pth\"\n",
    "\n",
    "# --- Environment Setup ---\n",
    "env = gym.make(\"CarRacing-v3\", render_mode=\"human\", continuous=False)\n",
    "action_space = env.action_space.n\n",
    "state_space = (3, IMG_SIZE, IMG_SIZE)\n",
    "\n",
    "#\n",
    "# --- Preprocessing ---\n",
    "def preprocess(image):\n",
    "    image = cv2.resize(image, (IMG_SIZE, IMG_SIZE))\n",
    "    image = image / 255.0\n",
    "    image = np.transpose(image, (2, 0, 1))\n",
    "    return image\n",
    "\n",
    "# --- CNN Model ---\n",
    "class DQNCNN(nn.Module):\n",
    "    def __init__(self, input_shape, num_actions):\n",
    "        super().__init__()\n",
    "        c, h, w = input_shape\n",
    "        # Define conv layers first\n",
    "        self.conv = nn.Sequential(\n",
    "            nn.Conv2d(c, 32, kernel_size=8, stride=4), nn.ReLU(),\n",
    "            nn.Conv2d(32, 64, kernel_size=4, stride=2), nn.ReLU(),\n",
    "            nn.Conv2d(64, 64, kernel_size=3, stride=1), nn.ReLU(),\n",
    "        )\n",
    "        # Compute conv output size\n",
    "        with torch.no_grad():\n",
    "            dummy = torch.zeros(1, c, h, w)\n",
    "            conv_out_size = self.conv(dummy).view(1, -1).size(1)\n",
    "        # Now define the full network\n",
    "        self.net = nn.Sequential(\n",
    "            self.conv,\n",
    "            nn.Flatten(),\n",
    "            nn.Linear(conv_out_size, 512), nn.ReLU(),\n",
    "            nn.Linear(512, num_actions)\n",
    "        )\n",
    "\n",
    "    def forward(self, x):\n",
    "        return self.net(x)\n",
    "\n",
    "# --- Recreate Model and Load Weights ---\n",
    "model = DQNCNN(state_space, action_space).to(DEVICE)\n",
    "model.load_state_dict(torch.load(WEIGHTS_PATH, map_location=DEVICE))\n",
    "model.eval()\n",
    "\n",
    "# --- Run a Single Episode with the Loaded Model ---\n",
    "obs, _ = env.reset()\n",
    "done = False\n",
    "total_reward = 0\n",
    "\n",
    "# Preprocess initial state\n",
    "state = preprocess(obs)\n",
    "\n",
    "while not done:\n",
    "    # Prepare state tensor\n",
    "    state_tensor = torch.tensor(state, dtype=torch.float32, device=DEVICE).unsqueeze(0)\n",
    "    with torch.no_grad():\n",
    "        q_values = model(state_tensor)\n",
    "    action = q_values.argmax(1).item()\n",
    "    \n",
    "    next_obs, reward, terminated, truncated, _ = env.step(action)\n",
    "    done = terminated or truncated\n",
    "    state = preprocess(next_obs)\n",
    "    total_reward += reward\n",
    "    env.render()\n",
    "\n",
    "print(f\"Episode finished with total reward: {total_reward}\")\n",
    "env.close() "
   ]
  }
 ],
 "metadata": {
  "kernelspec": {
   "display_name": "rl-gpu",
   "language": "python",
   "name": "python3"
  },
  "language_info": {
   "codemirror_mode": {
    "name": "ipython",
    "version": 3
   },
   "file_extension": ".py",
   "mimetype": "text/x-python",
   "name": "python",
   "nbconvert_exporter": "python",
   "pygments_lexer": "ipython3",
   "version": "3.10.16"
  }
 },
 "nbformat": 4,
 "nbformat_minor": 2
}
