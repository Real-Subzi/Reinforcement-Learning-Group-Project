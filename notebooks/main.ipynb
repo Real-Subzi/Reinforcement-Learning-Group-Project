{
 "cells": [
  {
   "cell_type": "markdown",
   "metadata": {},
   "source": [
    "# Intro to the project purpose\n",
    "In this project we are going to `conduct a reinforcement learning (RL) project comparing tabular and function approximation methods covered up to Chapter 10`.   \n",
    "\n",
    "## We are going to explore:\n",
    "- Exploration strategies.\n",
    "- Learning rate impacts.\n",
    "- Reward structures. "
   ]
  },
  {
   "cell_type": "markdown",
   "metadata": {},
   "source": [
    "# Intro to the Environment\n",
    "In this project we are covering the Car Racing environment from [Gymnasium](https://gymnasium.farama.org/environments/box2d/car_racing/)   \n",
    "## Box2D\n",
    "Before explaining the environment, we need to know about Box2D.   \n",
    "[Box2D](https://github.com/erincatto/box2d) is physics engine for making 2D games.   \n",
    "It offers the capability to make the world interactive and as real to the real world physics [Box2D docs](https://box2d.org/documentation/)\n",
    "Car Racing uses Box2D as the engine for it.\n",
    "## Car Racing\n",
    "Car Racing is a `top-down racing environemnt`[Car Racing Docs](https://gymnasium.farama.org/environments/box2d/car_racing/#description) made from pixels that generates random tracks every episode.   \n",
    "The goal is for the car to pass the whole racing track without failure as efficiently as possible.   \n",
    "The environment could generate and RGB buffer to view the environment world along with indicators that show the `true speed, ABS sensors, steering wheel position, and gyroscope`. But those indicators are only shown for viewing purposes, it is not used as a reward system or an observation state. The observation state is solely the pixels of the environemnt.   \n",
    "### Actions Space\n",
    "Car Racing offers 2 types of actions: continuous, and discrete.\n"
   ]
  },
  {
   "cell_type": "markdown",
   "metadata": {},
   "source": []
  }
 ],
 "metadata": {
  "kernelspec": {
   "display_name": "cmps460",
   "language": "python",
   "name": "python3"
  },
  "language_info": {
   "name": "python",
   "version": "3.10.13"
  }
 },
 "nbformat": 4,
 "nbformat_minor": 2
}
