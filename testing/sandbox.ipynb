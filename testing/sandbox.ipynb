{
 "cells": [
  {
   "cell_type": "markdown",
   "metadata": {},
   "source": [
    "# Sandbox time\n",
    "Today we are trying to see if we can get things other than 2D box from the car racing"
   ]
  },
  {
   "cell_type": "code",
   "execution_count": 17,
   "metadata": {},
   "outputs": [
    {
     "name": "stdout",
     "output_type": "stream",
     "text": [
      "{'lap_finished': False}\n"
     ]
    }
   ],
   "source": [
    "import gymnasium as gym\n",
    "import numpy as np\n",
    "import matplotlib.pyplot as plt\n",
    "\n",
    "env = gym.make(\"CarRacing-v3\", render_mode=\"human\", continuous=False)\n",
    "\n",
    "obs, _ = env.reset()\n",
    "done = False\n",
    "\n",
    "counter = 0\n",
    "while not done or counter < 1000:\n",
    "    action = 3\n",
    "    obs, reward, done, truncated, info = env.step(action)\n",
    "    # print(env.observation_space)\n",
    "    env.render()\n",
    "    # print(obs)\n",
    "    # print(env.action_space)\n",
    "    if info != {}:\n",
    "        print(info)\n",
    "        break\n",
    "    counter+=1\n",
    "\n",
    "\n",
    "env.close()\n",
    "\n",
    "\n"
   ]
  }
 ],
 "metadata": {
  "kernelspec": {
   "display_name": "cmps460",
   "language": "python",
   "name": "python3"
  },
  "language_info": {
   "codemirror_mode": {
    "name": "ipython",
    "version": 3
   },
   "file_extension": ".py",
   "mimetype": "text/x-python",
   "name": "python",
   "nbconvert_exporter": "python",
   "pygments_lexer": "ipython3",
   "version": "3.10.13"
  }
 },
 "nbformat": 4,
 "nbformat_minor": 2
}
