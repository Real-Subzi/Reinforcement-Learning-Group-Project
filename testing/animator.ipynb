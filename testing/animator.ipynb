{
 "cells": [
  {
   "cell_type": "markdown",
   "metadata": {},
   "source": [
    "This code is to animate the observations stored"
   ]
  },
  {
   "cell_type": "code",
   "execution_count": 1,
   "metadata": {},
   "outputs": [
    {
     "name": "stdout",
     "output_type": "stream",
     "text": [
      "Creating animation for episode 10...\n",
      "Animation saved for episode 10\n"
     ]
    },
    {
     "data": {
      "text/plain": [
       "<Figure size 640x480 with 0 Axes>"
      ]
     },
     "metadata": {},
     "output_type": "display_data"
    }
   ],
   "source": [
    "import matplotlib.pyplot as plt\n",
    "import matplotlib.animation as animation\n",
    "from IPython.display import HTML\n",
    "import numpy as np\n",
    "import os\n",
    "\n",
    "# Get the absolute path to the recorded_states directory\n",
    "base_dir = os.path.abspath(os.path.join(os.getcwd(), '..', 'notebooks'))\n",
    "recorded_states_dir = os.path.join(base_dir, 'recorded_states')\n",
    "\n",
    "def create_animation(episode):\n",
    "    try:\n",
    "        # Load the recorded states for the specified episode with allow_pickle=True\n",
    "        observations = np.load(os.path.join(recorded_states_dir, f'episode_{episode}_observations.npy'), allow_pickle=True)\n",
    "        features = np.load(os.path.join(recorded_states_dir, f'episode_{episode}_features.npy'), allow_pickle=True)\n",
    "        actions = np.load(os.path.join(recorded_states_dir, f'episode_{episode}_actions.npy'), allow_pickle=True)\n",
    "        rewards = np.load(os.path.join(recorded_states_dir, f'episode_{episode}_rewards.npy'), allow_pickle=True)\n",
    "\n",
    "        # Create figure with subplots\n",
    "        fig, (ax1, ax2) = plt.subplots(1, 2, figsize=(15, 6))\n",
    "        \n",
    "        # Function to update the animation\n",
    "        def update(frame):\n",
    "            # Clear previous frame\n",
    "            ax1.clear()\n",
    "            ax2.clear()\n",
    "            \n",
    "            # Plot the observation\n",
    "            ax1.imshow(observations[frame])\n",
    "            ax1.set_title(f'Episode {episode} - Frame {frame}')\n",
    "            ax1.axis('off')\n",
    "            \n",
    "            # Plot the features\n",
    "            feature_names = ['center_offset', 'curvature', 'avg_lane_angle', 'speed', 'acceleration']\n",
    "            # Convert features dictionary to array if needed\n",
    "            if isinstance(features[frame], dict):\n",
    "                feature_values = [features[frame][name] for name in feature_names]\n",
    "            else:\n",
    "                feature_values = features[frame]\n",
    "            ax2.bar(feature_names, feature_values)\n",
    "            ax2.set_title('Feature Values')\n",
    "            ax2.tick_params(axis='x', rotation=45)\n",
    "            \n",
    "            # Add action and reward information\n",
    "            action_names = ['DO_NOTHING', 'LEFT', 'RIGHT', 'GAS', 'BRAKE']\n",
    "            plt.suptitle(f'Action: {action_names[actions[frame]]} | Reward: {rewards[frame]:.2f}')\n",
    "        \n",
    "        # Create animation\n",
    "        anim = animation.FuncAnimation(fig, update, frames=len(observations), \n",
    "                                     interval=50, blit=False)\n",
    "        \n",
    "        # Save as MP4\n",
    "        anim.save(os.path.join(recorded_states_dir, f'episode_{episode}_animation.mp4'), \n",
    "                 writer='ffmpeg', fps=50)\n",
    "        \n",
    "        # Also save as GIF\n",
    "        anim.save(os.path.join(recorded_states_dir, f'episode_{episode}_animation.gif'), \n",
    "                 writer='pillow', fps=50)\n",
    "        \n",
    "        plt.close()\n",
    "        return anim\n",
    "    except Exception as e:\n",
    "        print(f\"Error processing episode {episode}: {str(e)}\")\n",
    "        return None\n",
    "\n",
    "# Create animations for each recorded episode\n",
    "# for episode in [10, 100, 1000, 1700, 2000, 2500]:\n",
    "for episode in [100,1000]:\n",
    "    print(f\"Creating animation for episode {episode}...\")\n",
    "    anim = create_animation(episode)\n",
    "    if anim is not None:\n",
    "        print(f\"Animation saved for episode {episode}\")\n",
    "    else:\n",
    "        print(f\"Failed to create animation for episode {episode}\")\n",
    "\n",
    "# Display one of the animations in the notebook\n",
    "# anim = create_animation(10)\n",
    "# if anim is not None:\n",
    "#     HTML(anim.to_html5_video())\n",
    "# else:\n",
    "#     print(\"Could not create animation for episode 10\")"
   ]
  }
 ],
 "metadata": {
  "kernelspec": {
   "display_name": "cmps499",
   "language": "python",
   "name": "python3"
  },
  "language_info": {
   "codemirror_mode": {
    "name": "ipython",
    "version": 3
   },
   "file_extension": ".py",
   "mimetype": "text/x-python",
   "name": "python",
   "nbconvert_exporter": "python",
   "pygments_lexer": "ipython3",
   "version": "3.10.13"
  }
 },
 "nbformat": 4,
 "nbformat_minor": 2
}
