{
 "cells": [
  {
   "cell_type": "code",
   "execution_count": 5,
   "metadata": {},
   "outputs": [
    {
     "name": "stdout",
     "output_type": "stream",
     "text": [
      "Saved rewards to rewards.npy\n"
     ]
    }
   ],
   "source": [
    "import numpy as np\n",
    "import re\n",
    "file_name=\"dqn_gray_alpha_09_gamma09\"\n",
    "# Step 1: Load the log file\n",
    "with open(f\"txts/{file_name}.txt\", \"r\") as f:\n",
    "    log_text = f.read()\n",
    "\n",
    "# Step 2: Extract all reward values using regex\n",
    "rewards = re.findall(r\"reward (-?\\d+\\.\\d+)\", log_text)\n",
    "\n",
    "# Step 3: Convert to NumPy array\n",
    "reward_array = np.array([float(r) for r in rewards])\n",
    "\n",
    "# Step 4: Save the array to a .npy file\n",
    "np.save(f\"arrays/{file_name}.npy\", reward_array)\n",
    "\n",
    "print(\"Saved rewards to rewards.npy\")\n"
   ]
  },
  {
   "cell_type": "code",
   "execution_count": 6,
   "metadata": {},
   "outputs": [
    {
     "name": "stdout",
     "output_type": "stream",
     "text": [
      "300\n"
     ]
    }
   ],
   "source": [
    "loaded_rewards = np.load(f\"arrays/{file_name}.npy\")\n",
    "print(len(loaded_rewards))"
   ]
  },
  {
   "cell_type": "code",
   "execution_count": 8,
   "metadata": {},
   "outputs": [
    {
     "name": "stdout",
     "output_type": "stream",
     "text": [
      "-100000000000.0\n"
     ]
    }
   ],
   "source": [
    "print(np.clip(-100000000000,a_min=-np.inf, a_max=1.0))\n"
   ]
  }
 ],
 "metadata": {
  "kernelspec": {
   "display_name": "cmps499",
   "language": "python",
   "name": "python3"
  },
  "language_info": {
   "codemirror_mode": {
    "name": "ipython",
    "version": 3
   },
   "file_extension": ".py",
   "mimetype": "text/x-python",
   "name": "python",
   "nbconvert_exporter": "python",
   "pygments_lexer": "ipython3",
   "version": "3.10.13"
  }
 },
 "nbformat": 4,
 "nbformat_minor": 2
}
