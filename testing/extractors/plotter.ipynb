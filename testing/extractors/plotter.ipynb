{
 "cells": [
  {
   "cell_type": "code",
   "execution_count": 1,
   "metadata": {},
   "outputs": [
    {
     "ename": "TypeError",
     "evalue": "plot_rewards() missing 1 required positional argument: 'file_name'",
     "output_type": "error",
     "traceback": [
      "\u001b[1;31m---------------------------------------------------------------------------\u001b[0m",
      "\u001b[1;31mTypeError\u001b[0m                                 Traceback (most recent call last)",
      "Cell \u001b[1;32mIn[1], line 24\u001b[0m\n\u001b[0;32m     15\u001b[0m     \u001b[38;5;66;03m# plt.figure(figsize=(10, 5))\u001b[39;00m\n\u001b[0;32m     16\u001b[0m     \u001b[38;5;66;03m# plt.plot(rewards)\u001b[39;00m\n\u001b[0;32m     17\u001b[0m     \u001b[38;5;66;03m# plt.title(\"Total Reward per Episode\")\u001b[39;00m\n\u001b[1;32m   (...)\u001b[0m\n\u001b[0;32m     20\u001b[0m     \u001b[38;5;66;03m# plt.savefig(f\"{save_path}/{file_name}_rewards.png\")\u001b[39;00m\n\u001b[0;32m     21\u001b[0m     \u001b[38;5;66;03m# plt.show()\u001b[39;00m\n\u001b[0;32m     23\u001b[0m rewards \u001b[38;5;241m=\u001b[39m np\u001b[38;5;241m.\u001b[39mload(\u001b[38;5;124m\"\u001b[39m\u001b[38;5;124marrays/dqn_2000eps_full_rgb_alpha_01_gamma_09.npy\u001b[39m\u001b[38;5;124m\"\u001b[39m)\n\u001b[1;32m---> 24\u001b[0m \u001b[43mplot_rewards\u001b[49m\u001b[43m(\u001b[49m\u001b[43mrewards\u001b[49m\u001b[43m)\u001b[49m\n",
      "\u001b[1;31mTypeError\u001b[0m: plot_rewards() missing 1 required positional argument: 'file_name'"
     ]
    }
   ],
   "source": [
    "import numpy as np\n",
    "import matplotlib.pyplot as plt\n",
    "\n",
    "# --- PLOTTING FUNCTION ---\n",
    "def plot_rewards(rewards, file_name, smoothing_window=100, save_path=\"plots\"):\n",
    "    smoothed = np.convolve(rewards, np.ones(smoothing_window)/smoothing_window, mode='valid')\n",
    "    plt.figure(figsize=(10, 5))\n",
    "    plt.plot(smoothed)\n",
    "    plt.title(\"Smoothed Total Reward per Episode\")\n",
    "    plt.xlabel(\"Episode\")\n",
    "    plt.ylabel(\"Total Reward\")\n",
    "    plt.savefig(f\"{save_path}/{file_name}.png\")\n",
    "    plt.show()\n",
    "\n",
    "    # plt.figure(figsize=(10, 5))\n",
    "    # plt.plot(rewards)\n",
    "    # plt.title(\"Total Reward per Episode\")\n",
    "    # plt.xlabel(\"Episode\")\n",
    "    # plt.ylabel(\"Total Reward\")\n",
    "    # plt.savefig(f\"{save_path}/{file_name}_rewards.png\")\n",
    "    # plt.show()\n",
    "\n",
    "rewards = np.load(\"arrays/dqn_2000eps_full_rgb_alpha_01_gamma_09.npy\")\n",
    "plot_rewards(rewards, \"dqn_2000eps_full_rgb_alpha_01_gamma_09\")"
   ]
  }
 ],
 "metadata": {
  "kernelspec": {
   "display_name": "cmps499",
   "language": "python",
   "name": "python3"
  },
  "language_info": {
   "codemirror_mode": {
    "name": "ipython",
    "version": 3
   },
   "file_extension": ".py",
   "mimetype": "text/x-python",
   "name": "python",
   "nbconvert_exporter": "python",
   "pygments_lexer": "ipython3",
   "version": "3.10.13"
  }
 },
 "nbformat": 4,
 "nbformat_minor": 2
}
